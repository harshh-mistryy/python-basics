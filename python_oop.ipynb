{
 "cells": [
  {
   "cell_type": "markdown",
   "metadata": {},
   "source": [
    "## OOP\n",
    "\n",
    "Object-oriented programming (OOP) organizes code into \"objects,\" which are instances of classes—blueprints that define attributes (data) and methods (behavior). Key principles include encapsulation (hiding internal details), inheritance (reusing code across classes), polymorphism (interacting with different classes through a unified interface), and abstraction (simplifying complex systems).\n",
    "\n",
    "\n",
    "- 4 Pillars of OOP\n",
    "\n",
    "1. **Encapsulation**: Encapsulation is about bundling data and the methods that operate on that data within a single unit, called a class. It restricts access to the inner workings of the class and allows controlled interactions. This hides the \"how\" and focuses on the \"what,\" ensuring users of a class can only interact with it through a well-defined interface. By using getters and setters for access, encapsulation protects the data from unintended interference and misuse.\n",
    "\n",
    "2. **Inheritance**: Inheritance allows a new class (called a subclass or child class) to inherit properties and behaviors (methods) from an existing class (called a superclass or parent class). This helps avoid code duplication and promotes a hierarchical class structure. For example, if you have a Vehicle class, subclasses like Car and Truck can inherit common properties (like speed and color) and behaviors (like start and stop) from Vehicle and add their specific ones.\n",
    "\n",
    "3. **Polymorphism**: Polymorphism lets different classes be treated as instances of the same class through a shared interface. This is often achieved through method overriding, where a subclass implements a method defined in the superclass but in its own way. For example, if Animal has a method speak(), subclasses like Dog and Cat can override speak() to provide their specific sounds. Polymorphism enhances flexibility by allowing objects of different classes to be used interchangeably.\n",
    "\n",
    "4. **Abstraction**: Abstraction simplifies complex systems by focusing only on essential qualities, ignoring unnecessary details. In OOP, abstraction is often achieved through abstract classes and interfaces, which define a common structure without implementing specifics. For example, an abstract Shape class might require a calculateArea() method, leaving the details of calculating area up to subclasses like Circle and Rectangle. Abstraction thus reduces complexity and enhances code readability and maintainability.\n",
    "\n",
    "OOP in Python organizes code into classes with objects, using encapsulation, inheritance, polymorphism, and abstraction to model real-world concepts effectively."
   ]
  },
  {
   "cell_type": "markdown",
   "metadata": {},
   "source": [
    "## CLASSES & OBJECS\n",
    "\n",
    "A class is a blueprint defining attributes and behaviors for objects—specific instances created from that class. While the class outlines structure (data fields) and actions (methods), an object embodies these, holding unique data. Classes provide organization, while objects bring this structure to life in a program’s runtime."
   ]
  },
  {
   "cell_type": "code",
   "execution_count": null,
   "metadata": {},
   "outputs": [
    {
     "name": "stdout",
     "output_type": "stream",
     "text": [
      "<class 'int'>\n",
      "<class 'str'>\n",
      "<class 'function'>\n"
     ]
    }
   ],
   "source": [
    "x = 1\n",
    "y = \"hello\"\n",
    "\n",
    "print(type(x))\n",
    "print(type(y))\n",
    "\n",
    "def my_func():\n",
    "    pass\n",
    "\n",
    "print(type(my_func))\n",
    "\n",
    "# Almost everything is an object in Python\n",
    "\n",
    "# print(x + y) There is no definite way to use + operator with str and int class."
   ]
  },
  {
   "cell_type": "code",
   "execution_count": null,
   "metadata": {},
   "outputs": [
    {
     "name": "stdout",
     "output_type": "stream",
     "text": [
      "<class '__main__.Dog'>\n",
      "Bark!\n"
     ]
    }
   ],
   "source": [
    "class Dog:\n",
    "    \n",
    "    def __init__(self):\n",
    "        pass\n",
    "    \n",
    "    def speak(self):\n",
    "        print(\"Bark!\")\n",
    "        \n",
    "d = Dog()\n",
    "print(type(d)) \n",
    "d.speak()\n",
    "\n",
    "# __main__ is the scope for executing top-level code in Python. It allows code to run only when files are executed directly.\n"
   ]
  },
  {
   "cell_type": "markdown",
   "metadata": {},
   "source": [
    "## ATTRIBUTES AND METHODS\n",
    "\n",
    "In Python, **methods** are functions defined within a class that operate on instances of that class, often modifying or utilizing object data. **Attributes** are variables associated with an object or class, representing its state or properties. Together, methods and attributes define an object’s behavior and characteristics.\n"
   ]
  },
  {
   "cell_type": "code",
   "execution_count": 17,
   "metadata": {},
   "outputs": [
    {
     "name": "stdout",
     "output_type": "stream",
     "text": [
      "<class '__main__.Dog'>\n",
      "Bark Hello\n",
      "Hello\n",
      "1\n",
      "None\n",
      "3\n"
     ]
    }
   ],
   "source": [
    "# In Python, self refers to the instance of the class on which a method is called, allowing access to its attributes and other methods.\n",
    "\n",
    "class Dog:\n",
    "    \n",
    "    def __init__(self, name, age): # __init__ is a special method in Python, called automatically when an object is instantiated. It initializes the object's attributes, setting up its initial state upon creation.\n",
    "        self.name = name # attribute\n",
    "        self.age = age\n",
    "    \n",
    "    def speak(self): # method\n",
    "        print(f\"Bark {self.name}\") # refernce of class Dog -> d is passed\n",
    "        \n",
    "    def get_name(self):\n",
    "        return self.name\n",
    "    \n",
    "    def get_age(self):\n",
    "        return self.age\n",
    "    \n",
    "    def set_age(self, age):\n",
    "        self.age = age\n",
    "        \n",
    "d = Dog(\"Hello\",1)\n",
    "print(type(d)) \n",
    "d.speak()\n",
    "print(d.get_name())\n",
    "print(d.get_age())\n",
    "print(d.set_age(3))\n",
    "print(d.get_age())\n"
   ]
  },
  {
   "cell_type": "code",
   "execution_count": 19,
   "metadata": {},
   "outputs": [
    {
     "data": {
      "text/plain": [
       "60.0"
      ]
     },
     "execution_count": 19,
     "metadata": {},
     "output_type": "execute_result"
    }
   ],
   "source": [
    "# MULTIPLE CLASSES\n",
    "\n",
    "class Student:\n",
    "    def __init__(self, name, age, grade):\n",
    "        self.name = name\n",
    "        self.age = age\n",
    "        self.grade = grade\n",
    "        \n",
    "    def get_grade(self):\n",
    "        return self.grade        \n",
    "        \n",
    "class Course:\n",
    "    def __init__(self, name, max_students):\n",
    "        self.name = name\n",
    "        self.max_students = max_students\n",
    "        self.students = []\n",
    "        \n",
    "    def add_student(self, student):\n",
    "        if len(self.students) < self.max_students:\n",
    "            self.students.append(student)\n",
    "            return True\n",
    "        else:\n",
    "            False\n",
    "            \n",
    "    def get_average(self):\n",
    "        value = 0\n",
    "        for student in self.students:\n",
    "            value+= student.get_grade()\n",
    "            \n",
    "        return value/len(self.students)\n",
    "    \n",
    "s1 = Student(\"A\", 21, 55)\n",
    "s2 = Student(\"A\", 21, 95)\n",
    "s3 = Student(\"A\", 21, 85)\n",
    "s4 = Student(\"A\", 21, 25)\n",
    "s5 = Student(\"A\", 21, 55)\n",
    "s6 = Student(\"A\", 21, 45)\n",
    "                \n",
    "c1 = Course(\"BCA\", 10)\n",
    "\n",
    "c1.add_student(s1) \n",
    "c1.add_student(s2) \n",
    "c1.add_student(s3) \n",
    "c1.add_student(s4) \n",
    "c1.add_student(s5) \n",
    "c1.add_student(s6)\n",
    "\n",
    "c1.get_average() \n",
    "        "
   ]
  },
  {
   "cell_type": "markdown",
   "metadata": {},
   "source": [
    "## INHERITANCE\n",
    "\n",
    "Inheritance in Python allows a class (child) to acquire attributes and methods from another class (parent), enabling code reuse and creating a hierarchical relationship. The child class can add new features or override inherited ones, facilitating customization. Inheritance supports polymorphism, allowing different classes to share a common interface."
   ]
  },
  {
   "cell_type": "code",
   "execution_count": 21,
   "metadata": {},
   "outputs": [
    {
     "name": "stdout",
     "output_type": "stream",
     "text": [
      "Bark!\n",
      "My name is A and age is 2\n",
      "Meow\n",
      "My name is B and age is 3\n"
     ]
    }
   ],
   "source": [
    "class Animal:\n",
    "    def __init__(self, name, age) -> None:\n",
    "        self.name = name\n",
    "        self.age = age\n",
    "        \n",
    "    def get_info(self):\n",
    "        print(f\"My name is {self.name} and age is {self.age}\")\n",
    "        \n",
    "class Dog(Animal): # Inheritance\n",
    "    def speak(self):\n",
    "        print(\"Bark!\")\n",
    "        \n",
    "class Cat(Animal):\n",
    "    def speak(self):\n",
    "        print(\"Meow\")\n",
    "        \n",
    "d = Dog(\"A\", 2)\n",
    "c = Cat(\"B\", 3)\n",
    "\n",
    "d.speak()\n",
    "d.get_info()\n",
    "c.speak()\n",
    "c.get_info()\n"
   ]
  },
  {
   "cell_type": "code",
   "execution_count": 22,
   "metadata": {},
   "outputs": [
    {
     "name": "stdout",
     "output_type": "stream",
     "text": [
      "Bark!\n",
      "My name is A and age is 2\n",
      "Meow\n",
      "My name is B and age is 3 and color is Blue\n"
     ]
    }
   ],
   "source": [
    "# `super()` in Python allows access to a parent class's methods and attributes from a child class, often used to extend or modify inherited behavior, especially within the `__init__` method.\n",
    "\n",
    "class Animal:\n",
    "    def __init__(self, name, age) -> None:\n",
    "        self.name = name\n",
    "        self.age = age\n",
    "        \n",
    "    def get_info(self):\n",
    "        print(f\"My name is {self.name} and age is {self.age}\")\n",
    "        \n",
    "class Dog(Animal): # Inheritance\n",
    "    def speak(self):\n",
    "        print(\"Bark!\")\n",
    "        \n",
    "class Cat(Animal):\n",
    "    def __init__(self, name, age, color) -> None:\n",
    "        super().__init__(name, age)\n",
    "        self.color = color\n",
    "    \n",
    "    def get_info(self):\n",
    "        print(f\"My name is {self.name} and age is {self.age} and color is {self.color}\")\n",
    "    \n",
    "    def speak(self):\n",
    "        print(\"Meow\")\n",
    "        \n",
    "d = Dog(\"A\", 2)\n",
    "c = Cat(\"B\", 3, \"Blue\")\n",
    "\n",
    "d.speak()\n",
    "d.get_info()\n",
    "c.speak()\n",
    "c.get_info()\n"
   ]
  },
  {
   "cell_type": "markdown",
   "metadata": {},
   "source": [
    "## CLASS ATTRIBUES, CLASS METHODS AND STATIC METHOD\n",
    "\n",
    "A **class attribute** is shared across all instances, defined directly in the class. A **class method**, defined with `@classmethod`, operates on the class itself (not instances) and uses `cls` to access class attributes. A **static method**, marked with `@staticmethod`, doesn’t access the class or instance; it functions independently within the class namespace."
   ]
  },
  {
   "cell_type": "code",
   "execution_count": null,
   "metadata": {},
   "outputs": [
    {
     "name": "stdout",
     "output_type": "stream",
     "text": [
      "1\n",
      "2\n",
      "2\n"
     ]
    }
   ],
   "source": [
    "# CLASS ATTRIBUTES\n",
    "\n",
    "class Person:\n",
    "    num_of_per = 0\n",
    "    GRAVITY = 9.8 # constant value\n",
    "    def __init__(self, name) -> None:\n",
    "        self.name = name\n",
    "        Person.num_of_per += 1\n",
    "        \n",
    "p1 = Person(\"A\")\n",
    "print(p1.num_of_per)\n",
    "p2 = Person(\"B\")\n",
    "print(p1.num_of_per)\n",
    "print(Person.num_of_per)"
   ]
  },
  {
   "cell_type": "code",
   "execution_count": 25,
   "metadata": {},
   "outputs": [
    {
     "name": "stdout",
     "output_type": "stream",
     "text": [
      "1\n",
      "2\n",
      "2\n"
     ]
    }
   ],
   "source": [
    "# CLASS METHOD\n",
    "\n",
    "# CLASS ATTRIBUTES\n",
    "\n",
    "class Person:\n",
    "    num_of_per = 0\n",
    "    def __init__(self, name) -> None:\n",
    "        self.name = name\n",
    "        Person.add_person()\n",
    "        \n",
    "    @classmethod\n",
    "    def add_person(cls):\n",
    "        cls.num_of_per += 1\n",
    "        \n",
    "p1 = Person(\"A\")\n",
    "print(p1.num_of_per)\n",
    "p2 = Person(\"B\")\n",
    "print(p1.num_of_per)\n",
    "print(Person.num_of_per)"
   ]
  },
  {
   "cell_type": "code",
   "execution_count": null,
   "metadata": {},
   "outputs": [
    {
     "name": "stdout",
     "output_type": "stream",
     "text": [
      "27\n"
     ]
    }
   ],
   "source": [
    "# STATIC METHOD\n",
    "\n",
    "class Math:\n",
    "    \n",
    "    @staticmethod\n",
    "    def add_one(n1, n2):\n",
    "        return n1+n2\n",
    "\n",
    "print(Math.add_one(23,4))\n",
    "\n",
    "# A @classmethod accesses the class with cls, while a @staticmethod operates independently, without accessing class or instance attributes."
   ]
  }
 ],
 "metadata": {
  "kernelspec": {
   "display_name": "base",
   "language": "python",
   "name": "python3"
  },
  "language_info": {
   "codemirror_mode": {
    "name": "ipython",
    "version": 3
   },
   "file_extension": ".py",
   "mimetype": "text/x-python",
   "name": "python",
   "nbconvert_exporter": "python",
   "pygments_lexer": "ipython3",
   "version": "3.12.4"
  }
 },
 "nbformat": 4,
 "nbformat_minor": 2
}
