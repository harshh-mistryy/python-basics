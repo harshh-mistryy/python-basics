{
 "cells": [
  {
   "cell_type": "markdown",
   "metadata": {},
   "source": [
    "## PYTHON - ABOUT\n",
    "\n",
    "Python is a high-level, interpreted programming language known for its readability and simplicity. It supports multiple programming paradigms, including procedural, object-oriented, and functional programming, and is widely used for web development, data analysis, artificial intelligence, automation, and more."
   ]
  },
  {
   "cell_type": "markdown",
   "metadata": {},
   "source": [
    "## DATA TYPES \n",
    "\n",
    "In Python, data types define the kind of value a variable holds, such as integers, strings, lists, tuples, dictionaries, sets, booleans, and more, each serving different purposes.\n"
   ]
  },
  {
   "cell_type": "code",
   "execution_count": null,
   "metadata": {},
   "outputs": [],
   "source": [
    "# int\n",
    "\n",
    "1\n",
    "22\n",
    "-1234\n",
    "\n",
    "# float\n",
    "\n",
    "3.33\n",
    "2.0\n",
    "-12.3334\n",
    "\n",
    "# string\n",
    "\n",
    "\"Hello World\"\n",
    "'Hello World'\n",
    "\"4.6\"\n",
    "'Hello World\"'\n",
    "\n",
    "# boolean\n",
    "\n",
    "True\n",
    "False\n",
    "0\n",
    "1\n",
    "\n",
    "# none\n",
    "\n",
    "None"
   ]
  },
  {
   "cell_type": "markdown",
   "metadata": {},
   "source": [
    "## PRINTING & OUTPUT\n",
    "\n",
    "In Python, printing is done using the `print()` function, which displays output to the console or terminal."
   ]
  },
  {
   "cell_type": "code",
   "execution_count": 8,
   "metadata": {},
   "outputs": [
    {
     "name": "stdout",
     "output_type": "stream",
     "text": [
      "Hello World\n",
      "Hello World!\n",
      "Hey\n",
      "Hey | Bye\n",
      "1 - 2\n"
     ]
    }
   ],
   "source": [
    "print(\"Hello World\")\n",
    "\n",
    "# print(Hello World) -- Invalid\n",
    "\n",
    "print(\"Hello\", \"World!\")\n",
    "\n",
    "var = \"Hey\"\n",
    "print(var)\n",
    "\n",
    "print(\"Hey\", end=\" | \")\n",
    "print(\"Bye\")\n",
    "\n",
    "print(\"1\", \"2\", sep=\" - \")"
   ]
  },
  {
   "cell_type": "markdown",
   "metadata": {},
   "source": [
    "## VARIABLES & INPUT\n",
    "\n",
    "In Python, variables store data values, and their type is inferred automatically. The `input()` function allows users to enter data, which is often stored in variables for further processing."
   ]
  },
  {
   "cell_type": "code",
   "execution_count": 13,
   "metadata": {},
   "outputs": [
    {
     "name": "stdout",
     "output_type": "stream",
     "text": [
      "1\n",
      "Hello\n",
      "10 11\n",
      "Harsh 21\n"
     ]
    }
   ],
   "source": [
    "# VARIABLES\n",
    "\n",
    "a = 1\n",
    "b = \"Hello\"\n",
    "\n",
    "print(a)\n",
    "print(b)\n",
    "\n",
    "i = 10\n",
    "j = i # Only value of i is copied in j not the reference\n",
    "j = 11\n",
    "print(i, j)\n",
    "\n",
    "var_name = \"test\" # python follows snake_case\n",
    "\n",
    "# 12abc = \"a\" -- Invalid\n",
    "# $234 = \"a\" -- Invalid\n",
    "# _124_abc = \"a\" -- Valid\n",
    "# test_var = \"a\" -- Valid\n",
    "\n",
    "\n",
    "# INPUT\n",
    "\n",
    "name = input(\"Name: \")\n",
    "age = input(\"Age: \")\n",
    "\n",
    "print(name, age)"
   ]
  },
  {
   "cell_type": "markdown",
   "metadata": {},
   "source": [
    "## ARITHMETIC OPERATORS\n",
    "\n",
    "Arithmetic operators in Python perform mathematical operations: addition (+), subtraction (-), multiplication (*), division (/), modulus (%), and exponentiation (**)."
   ]
  },
  {
   "cell_type": "code",
   "execution_count": 19,
   "metadata": {},
   "outputs": [
    {
     "name": "stdout",
     "output_type": "stream",
     "text": [
      "30\n",
      "-10\n",
      "200\n",
      "0.5\n",
      "10\n",
      "100000000000000000000\n",
      "0\n",
      "0\n",
      "300\n",
      "<class 'int'>\n",
      "<class 'str'>\n"
     ]
    }
   ],
   "source": [
    "a = 10\n",
    "b = 20\n",
    "\n",
    "print(a + b)\n",
    "print(a - b)\n",
    "print(a * b)\n",
    "print(a / b)\n",
    "print(a % b)\n",
    "print(a ** b)\n",
    "print(a // b )\n",
    "print(int(a / b))\n",
    "\n",
    "print((a + b) * a) # Expression evaluated in Order-wise i.e BEDMAS\n",
    "\n",
    "temp = int(input(\"Enter Num: \"))\n",
    "print(type(temp))\n",
    "temp = input(\"Enter Num: \")\n",
    "print(type(temp))\n"
   ]
  },
  {
   "cell_type": "markdown",
   "metadata": {},
   "source": [
    "## STRING & STRING METHODS\n",
    "\n",
    "In Python, a string is a sequence of characters enclosed in single, double, or triple quotes. It is an immutable data type used for representing and manipulating textual data in various ways.\n",
    "\n",
    "A method is a function defined within a class that operates on instances of that class, performing specific actions."
   ]
  },
  {
   "cell_type": "code",
   "execution_count": null,
   "metadata": {},
   "outputs": [
    {
     "name": "stdout",
     "output_type": "stream",
     "text": [
      "hello\n",
      "HELLO\n",
      "hello\n",
      "Hello World@\n",
      "a-b-c\n",
      "2\n",
      "2\n",
      "True\n",
      "False\n",
      "Hello world\n"
     ]
    },
    {
     "data": {
      "text/plain": [
       "'Hello Bye Hello Bye Hello Bye '"
      ]
     },
     "execution_count": 4,
     "metadata": {},
     "output_type": "execute_result"
    }
   ],
   "source": [
    "a = \"Hello\"\n",
    "type(a) # The type() function in Python is used to determine the type of an object or variable. It returns the class type of the object, which can be useful for debugging or checking the data type of a variable.\n",
    "\n",
    "# \"hello\".method() or var.method()\n",
    "\n",
    "print(a.lower())\n",
    "print(a.upper())\n",
    "print(\"    hello\".strip())\n",
    "print(\"Hello World!\".replace(\"!\", \"@\"))\n",
    "print(\"-\".join([\"a\", \"b\", \"c\"]))\n",
    "print(a.count(\"l\"))\n",
    "print(a.find(\"l\"))\n",
    "print(a.startswith(\"He\"))\n",
    "print(a.endswith(\"He\"))\n",
    "print(\"hello World\".capitalize())\n",
    "\n",
    "\n",
    "b = \"Bye\"\n",
    "c = 3\n",
    "\n",
    "a + \" \" + b\n",
    "(a + \" \" + b + \" \") * c"
   ]
  },
  {
   "cell_type": "markdown",
   "metadata": {},
   "source": [
    "## CONDITIONALS & CONDITIONAL OPERATORS\n",
    "\n",
    "In Python, conditionals are statements that execute code blocks based on specific conditions. Conditional operators (`==`, `!=`, `>`, `<`, `>=`, `<=`) evaluate expressions, enabling decisions within `if`, `elif`, and `else` statements."
   ]
  },
  {
   "cell_type": "code",
   "execution_count": null,
   "metadata": {},
   "outputs": [
    {
     "name": "stdout",
     "output_type": "stream",
     "text": [
      "True\n",
      "False\n",
      "False\n",
      "False\n",
      "True\n",
      "True\n",
      "97\n",
      "98\n",
      "False 97 > 98\n",
      "True 98 > 97\n",
      "----------------------------\n",
      "False\n",
      "True\n",
      "False\n"
     ]
    }
   ],
   "source": [
    "# CONDITIONAL OPERATORS\n",
    "\n",
    "x = \"HELLO\"\n",
    "y = \"HELLO\"\n",
    "\n",
    "print(x == y)\n",
    "print(x != y)\n",
    "print(x > y) # Checks character by character\n",
    "print(x < y)\n",
    "print(x <= y)\n",
    "print(x >= y)\n",
    "\n",
    "\n",
    "print(ord('a')) # Gives ASCII Value of the character\n",
    "print(ord('b'))\n",
    "print('a' > 'b', ord('a'), \">\", ord('b')) \n",
    "print('b' > 'a', ord('b'), \">\", ord('a')) "
   ]
  },
  {
   "cell_type": "code",
   "execution_count": 36,
   "metadata": {},
   "outputs": [
    {
     "name": "stdout",
     "output_type": "stream",
     "text": [
      "False\n",
      "True\n",
      "False\n",
      "True\n",
      "False\n",
      "True\n",
      "False\n"
     ]
    }
   ],
   "source": [
    "# CHAINED CONDITIONS\n",
    "\n",
    "\"\"\"Conditionals have lower precedence than Arithmetic operators\"\"\"\n",
    "\n",
    "x = 7\n",
    "y = 8\n",
    "z = 0\n",
    "\n",
    "res1 = x == y\n",
    "res2 = y > 2\n",
    "res3 = x - 2 > z + 13 # x - 2 = 5; z + 13 = 13; 5 > 13 -- False\n",
    "\n",
    "res4 = res1 or res2 or res3\n",
    "res5 = res1 and res2\n",
    "res6 = res1 or res2 or not res5\n",
    "\n",
    "print(res1)\n",
    "print(res2)\n",
    "print(res3)\n",
    "print(res4)\n",
    "print(res5)\n",
    "print(res6)\n",
    "\n",
    "print(not (True or (False and True)))"
   ]
  },
  {
   "cell_type": "code",
   "execution_count": null,
   "metadata": {},
   "outputs": [
    {
     "name": "stdout",
     "output_type": "stream",
     "text": [
      "No!\n",
      "Exiting Program\n"
     ]
    }
   ],
   "source": [
    "# CONDITIONAL STATEMENTS\n",
    "\n",
    "x = input(\"Name: \")\n",
    "\n",
    "if x == \"Abc\":\n",
    "    print(\"Hey!\")\n",
    "    if 1 == 1:\n",
    "        print(T)\n",
    "elif x == \"Fgh\":\n",
    "    print(\"No!\")\n",
    "else: \n",
    "    print(\"Bye!\")\n",
    "\n",
    "print(\"Exiting Program\")"
   ]
  },
  {
   "cell_type": "markdown",
   "metadata": {},
   "source": [
    "\n",
    "## COLLECTIONS\n",
    "\n",
    "In Python, a collection is a data structure that stores multiple items in a single variable. Common collections include lists, tuples, sets, and dictionaries, each offering different ways to organize data.\n",
    "\n",
    "A **list** in Python is an ordered, mutable collection allowing duplicate elements, defined with square brackets (`[]`). A **tuple** is an ordered, immutable collection, defined with parentheses (`()`), also allowing duplicates."
   ]
  },
  {
   "cell_type": "code",
   "execution_count": null,
   "metadata": {},
   "outputs": [
    {
     "name": "stdout",
     "output_type": "stream",
     "text": [
      "1\n",
      "4 5\n",
      "[1, 'Abc', True, 6.66, 'ABC']\n",
      "[1, 'Abc', True, 6.66, 'ABC', 5, 6, 7]\n",
      "[1, 'Abc', 'TTT', True, 6.66, 'ABC', 5, 6, 7]\n",
      "['Abc', 'TTT', True, 6.66, 'ABC', 5, 6, 7]\n",
      "0\n",
      "1\n",
      "['Abc', 'TTT', True, 6.66, 'ABC', 5, 6, 7]\n",
      "None\n",
      "[7, 6, 5, 'ABC', 6.66, True, 'TTT', 'Abc']\n",
      "[7, 6, 5, 'ABC', 6.66, True, 'TTT']\n",
      "[7, 6, 5, 'ABC', 6.66, True, 'TTT']\n",
      "[7, 6, 5, 'ABC', 6.66, True, 'TTT']\n",
      "[]\n",
      "[1, 2, 3]\n",
      "[3, 2, 1]\n"
     ]
    }
   ],
   "source": [
    "# LIST\n",
    "\n",
    "x = [1, \"Abc\", True, 6.66]\n",
    "print(x[0])\n",
    "print(len(x), len(\"AAAAA\"))\n",
    "\n",
    "x.append(\"ABC\")\n",
    "print(x)\n",
    "x.extend([5,6,7]) # Adds all items from an iterable (e.g., list, tuple) to the end of the list.\n",
    "print(x)\n",
    "x.insert(2, \"TTT\") # Inserts an item at the specified index.\n",
    "print(x)\n",
    "x.remove(1) # Removes the first occurrence of the specified item.\n",
    "print(x)\n",
    "print(x.index(\"Abc\")) # Returns the index of the first occurrence of the specified item.\n",
    "print(x.count(True))\n",
    "# x.sort() # Only sorts if all elements are of same type\n",
    "print(x)\n",
    "# x.sort(reverse=True) \n",
    "print(x.reverse())\n",
    "print(x)\n",
    "x.pop() # Removes and returns the item at the specified index (or the last item if index is not provided).\n",
    "print(x)\n",
    "y = x.copy() # Returns a shallow copy of the list.\n",
    "print(x)\n",
    "print(y)\n",
    "x.clear()\n",
    "print(x)\n",
    "\n",
    "\n",
    "a = [1,2,3]\n",
    "b = a\n",
    "print(a)\n",
    "b.reverse()\n",
    "print(a)\n",
    "\n",
    "# Refernce is same for both a & b as string are mutables"
   ]
  },
  {
   "cell_type": "code",
   "execution_count": null,
   "metadata": {},
   "outputs": [
    {
     "name": "stdout",
     "output_type": "stream",
     "text": [
      "1\n",
      "1\n",
      "(1, 2, 3, 4, 5, 6)\n",
      "(1, 2, 3, 1, 2, 3, 1, 2, 3)\n",
      "<class 'tuple'>\n"
     ]
    }
   ],
   "source": [
    "# TUPLES\n",
    "\n",
    "x = (1,2,3)\n",
    "\n",
    "print(x.count(1))\n",
    "print(x.index(2))\n",
    "# print(x.index(4)) Raises value error as index is not found\n",
    "\n",
    "y = (4,5,6)\n",
    "\n",
    "print(x + y)\n",
    "print(x * len(y))\n",
    "\n",
    "z = (1,)\n",
    "print(type(z))\n",
    "\n",
    "# To create a single element tuple we need to add a comma after the element else it will be evaluated as an expression."
   ]
  },
  {
   "cell_type": "markdown",
   "metadata": {},
   "source": [
    "## LOOPING\n",
    "\n",
    "In Python, looping refers to repeatedly executing a block of code using `for` or `while` loops. It allows automated iteration over sequences or continues until a specified condition is met.\n",
    "\n",
    "Use a for loop when iterating over a sequence or a fixed range, and a while loop for indefinite conditions."
   ]
  },
  {
   "cell_type": "code",
   "execution_count": 73,
   "metadata": {},
   "outputs": [
    {
     "name": "stdout",
     "output_type": "stream",
     "text": [
      "0\n",
      "1\n",
      "2\n",
      "3\n",
      "4\n",
      "5\n",
      "6\n",
      "7\n",
      "8\n",
      "9\n",
      "\n",
      "0\n",
      "1\n",
      "2\n",
      "3\n",
      "4\n",
      "\n",
      "0 0\n",
      "1 1\n",
      "2 2\n",
      "3 3\n",
      "4 4\n"
     ]
    }
   ],
   "source": [
    "# The `range()` function generates a sequence of numbers, commonly used in `for` loops, with optional start, stop, and step values.\n",
    "# FOR\n",
    "for i in range(0, 10):\n",
    "    print(i)\n",
    "    \n",
    "print()\n",
    "    \n",
    "x = [i for i in range(0 , 5)]\n",
    "for j in x:\n",
    "    print(j)\n",
    "    \n",
    "print()\n",
    "# enumerate() adds a counter to an iterable, returning an index-value pair, useful for tracking positions during iteration.\n",
    "\n",
    "for i,v in enumerate(x):\n",
    "    print(i,v)"
   ]
  },
  {
   "cell_type": "code",
   "execution_count": 71,
   "metadata": {},
   "outputs": [
    {
     "name": "stdout",
     "output_type": "stream",
     "text": [
      "0\n",
      "1\n",
      "2\n",
      "3\n",
      "4\n",
      "5\n",
      "6\n",
      "7\n",
      "8\n",
      "9\n"
     ]
    }
   ],
   "source": [
    "# WHILE\n",
    "i = 0\n",
    "while i < 10:\n",
    "    print(i)\n",
    "    i += 1"
   ]
  },
  {
   "cell_type": "markdown",
   "metadata": {},
   "source": [
    "## SLICING & DICING\n",
    "\n",
    "Slicing in Python extracts parts of sequences using start:stop:step. Dicing typically refers to slicing in multiple dimensions, like arrays."
   ]
  },
  {
   "cell_type": "code",
   "execution_count": 86,
   "metadata": {},
   "outputs": [
    {
     "name": "stdout",
     "output_type": "stream",
     "text": [
      "['Hey', 'Bye', 1, 3, 5, 7, 2, 4, 6, 8, True]\n",
      "['Hey', 1, 5, 2, 6, True]\n",
      "[True, 8, 6, 4, 2, 7, 5, 3, 1, 'Bye', 'Hey']\n",
      "(1, 3)\n"
     ]
    }
   ],
   "source": [
    "x = [\"Hey\", \"Bye\", 1,3,5,7,2,4,6,8,True]\n",
    "\n",
    "print(x[0:]) # F -> L\n",
    "print(x[0::2]) \n",
    "print(x[(len(x) - 1)::-1]) # L -> F\n",
    "\n",
    "print((1,2,3)[::2])\n"
   ]
  },
  {
   "cell_type": "markdown",
   "metadata": {},
   "source": [
    "## SETS\n",
    "\n",
    "A set in Python is an unordered, mutable collection of unique elements, defined using the set() function.\n"
   ]
  },
  {
   "cell_type": "code",
   "execution_count": 90,
   "metadata": {},
   "outputs": [
    {
     "name": "stdout",
     "output_type": "stream",
     "text": [
      "{1, 2, 3, 4, 5, 6}\n",
      "{1, 2, 3, 4, 5}\n",
      "{1, 2, 3, 4, 5}\n",
      "False\n",
      "set()\n"
     ]
    }
   ],
   "source": [
    "x = {1,2,3,4,5}\n",
    "\n",
    "x.add(6)\n",
    "print(x)\n",
    "x.remove(6)\n",
    "# x.remove(7) Raises key error\n",
    "print(x)\n",
    "x.discard(7)\n",
    "print(x)\n",
    "\n",
    "y = {3,4,5,6,7}\n",
    "x.union(y)\n",
    "x.intersection(y)\n",
    "\n",
    "print(6 in x)\n",
    "\n",
    "x.clear()\n",
    "print(x)"
   ]
  },
  {
   "cell_type": "markdown",
   "metadata": {},
   "source": [
    "## DICTIONARY\n",
    "\n",
    "A dictionary in Python is a mutable collection of key-value pairs, where each key is unique, and values are associated with these keys. It is defined using curly braces {} or the dict() constructor."
   ]
  },
  {
   "cell_type": "code",
   "execution_count": 116,
   "metadata": {},
   "outputs": [
    {
     "name": "stdout",
     "output_type": "stream",
     "text": [
      "v1\n",
      "v1\n",
      "None\n",
      "dict_keys(['key1'])\n",
      "dict_values(['v1'])\n",
      "dict_items([('key1', 'v1')])\n",
      "{'key1': 'v1', 'key2': 'v2'}\n",
      "{'key1': 'v1'}\n",
      "{}\n",
      "{}\n"
     ]
    }
   ],
   "source": [
    "x = {\n",
    "    \"key1\": \"v1\"\n",
    "}\n",
    "\n",
    "print(x[\"key1\"])\n",
    "# print(x[\"key\"]) # Raises key error\n",
    "\n",
    "print(x.get(\"key1\"))\n",
    "print(x.get(\"1\")) # None\n",
    "print(x.keys()) \n",
    "print(x.values())\n",
    "print(x.items())\n",
    "x.update({\"key2\":\"v2\"})\n",
    "print(x)\n",
    "x.pop(\"key4\",2)\n",
    "x.popitem()\n",
    "y = x.copy()\n",
    "print(y)\n",
    "del x[\"key1\"]\n",
    "print(x)\n",
    "x.clear()\n",
    "# del x[\"key1\"] Key Error\n",
    "print(x)"
   ]
  },
  {
   "cell_type": "markdown",
   "metadata": {},
   "source": [
    "## COMPREHENSIONS\n",
    "\n",
    "**Comprehensions** in Python provide a compact and efficient way to create lists, sets, or dictionaries using expressions, optionally filtered by conditions, in a single, readable line of code."
   ]
  },
  {
   "cell_type": "code",
   "execution_count": 127,
   "metadata": {},
   "outputs": [
    {
     "name": "stdout",
     "output_type": "stream",
     "text": [
      "[2, 4, 6, 8, 10, 12, 14, 16, 18, 20]\n",
      "[[0, 1, 2, 3, 4, 5], [0, 1, 2, 3, 4, 5], [0, 1, 2, 3, 4, 5], [0, 1, 2, 3, 4, 5]]\n",
      "{0, 1, 2, 3, 4, 5, 6, 7, 8, 9}\n",
      "<class 'set'>\n",
      "{0: 0, 1: 1, 2: 4, 3: 9, 4: 16, 5: 25, 6: 36, 7: 49, 8: 64, 9: 81}\n",
      "<class 'dict'>\n"
     ]
    }
   ],
   "source": [
    "# LIST \n",
    "\n",
    "x = [x+2 for x in range(0, 20, 2)]\n",
    "print(x)\n",
    "\n",
    "y = [[i for i in range(0,6)] for j in range(0,4)]\n",
    "print(y)\n",
    "\n",
    "# SET\n",
    "\n",
    "x = {i for i in range(0,10)}\n",
    "print(x)\n",
    "print(type(x))\n",
    "\n",
    "# DICT\n",
    "\n",
    "x = {i:i**2 for i in range(0,10)}\n",
    "print(x)\n",
    "print(type(x))"
   ]
  },
  {
   "cell_type": "markdown",
   "metadata": {},
   "source": [
    "## FUNCTIONS\n",
    "\n",
    "A **function** in Python is a reusable block of code that performs a specific task. It is defined using the `def` keyword, followed by a name, parameters, and a body."
   ]
  },
  {
   "cell_type": "code",
   "execution_count": 135,
   "metadata": {},
   "outputs": [
    {
     "name": "stdout",
     "output_type": "stream",
     "text": [
      "(6, 7)\n",
      "8 9\n",
      "5\n",
      "2\n"
     ]
    }
   ],
   "source": [
    "def print_nums(num1, num2):\n",
    "    return num1, num2\n",
    "    \n",
    "print(print_nums(6, 7)) # Gives a tuple\n",
    "r1, r2 = print_nums(8, 9) # Unpacking\n",
    "print(r1, r2)\n",
    "\n",
    "def temp_func(num):\n",
    "    \n",
    "    def func2():\n",
    "        print(num)\n",
    "    \n",
    "    return func2\n",
    "\n",
    "c = temp_func\n",
    "c(5)()\n",
    "\n",
    "c = temp_func(2)\n",
    "c()"
   ]
  },
  {
   "cell_type": "code",
   "execution_count": 150,
   "metadata": {},
   "outputs": [
    {
     "name": "stdout",
     "output_type": "stream",
     "text": [
      "1 2 3 4 5\n",
      "]\n",
      "([1, 2, 3, 4, 5], {'sep': '1', 'end': ']'})\n"
     ]
    }
   ],
   "source": [
    "## *args and **kwargs\n",
    "\n",
    "# In Python, `*` is used for **iterable unpacking**, allowing you to collect multiple values into a list (e.g., `*args` for function arguments). The `**` operator is used for **dictionary unpacking**, allowing you to pass key-value pairs or merge dictionaries. It also handles keyword arguments in functions (`**kwargs`).\n",
    "\n",
    "x = [1,2,3,4,5]\n",
    "print(*x)\n",
    "y = {'sep':\"1\", 'end': ']'}\n",
    "print(**y)\n",
    "print()\n",
    "\n",
    "def func(*args, **kwargs):\n",
    "    print(args)\n",
    "    \n",
    "func(x, y)"
   ]
  },
  {
   "cell_type": "markdown",
   "metadata": {},
   "source": [
    "## SCOPE \n",
    "\n",
    "Scope in Python refers to the region of the code where a variable or function is accessible. It defines the visibility and lifetime of variables, such as local, global, or built-in scopes."
   ]
  },
  {
   "cell_type": "code",
   "execution_count": 153,
   "metadata": {},
   "outputs": [
    {
     "name": "stdout",
     "output_type": "stream",
     "text": [
      "1,2,4\n"
     ]
    }
   ],
   "source": [
    "x = \"124\"\n",
    "\n",
    "def func():\n",
    "    global x\n",
    "    x = \"1,2,4\"\n",
    "\n",
    "func()\n",
    "print(x)"
   ]
  },
  {
   "cell_type": "markdown",
   "metadata": {},
   "source": [
    "## EXCEPTION HANDLING\n",
    "\n",
    "**Exception handling** in Python allows you to manage runtime errors using `try`, `except`, `else`, and `finally` blocks. It prevents program crashes by catching and handling exceptions, ensuring graceful error recovery and resource management.\n",
    "\n",
    "In Python, `raise` is used to trigger exceptions manually, helping to signal errors or enforce constraints in code execution flow."
   ]
  },
  {
   "cell_type": "code",
   "execution_count": 158,
   "metadata": {},
   "outputs": [
    {
     "name": "stdout",
     "output_type": "stream",
     "text": [
      "division by zero\n",
      "Finally Block!\n"
     ]
    }
   ],
   "source": [
    "# raise Exception(\"Exception\") raises exception\n",
    "\n",
    "try:\n",
    "    num = int(input(\"Enter Num: \"))\n",
    "    res = 10/num\n",
    "    print(res)\n",
    "\n",
    "except Exception as e:\n",
    "    print(e) \n",
    "else:\n",
    "    print(\"Else\")\n",
    "finally:\n",
    "    print(\"Finally Block!\")\n",
    "\n",
    "    "
   ]
  },
  {
   "cell_type": "markdown",
   "metadata": {},
   "source": [
    "## LAMBDA FUNCTION\n",
    "\n",
    "A **lambda** in Python is an anonymous function defined using the `lambda` keyword. It can take multiple arguments and return a single expression, often used for short, throwaway functions."
   ]
  },
  {
   "cell_type": "code",
   "execution_count": 164,
   "metadata": {},
   "outputs": [
    {
     "name": "stdout",
     "output_type": "stream",
     "text": [
      "7\n"
     ]
    }
   ],
   "source": [
    "l_f = lambda x, y: x + y\n",
    "\n",
    "print(l_f(2,5))"
   ]
  },
  {
   "cell_type": "markdown",
   "metadata": {},
   "source": [
    "## MAP, FILTER & REDUCE\n",
    "\n",
    "**`map()`** applies a given function to all items in an iterable, returning a new iterable with the results.  \n",
    "**`filter()`** filters items in an iterable based on a function that returns `True` or `False`.  \n",
    "**`reduce()`** (from `functools`) accumulates results from applying a function to items in an iterable."
   ]
  },
  {
   "cell_type": "code",
   "execution_count": 170,
   "metadata": {},
   "outputs": [
    {
     "name": "stdout",
     "output_type": "stream",
     "text": [
      "[1, 4, 9, 16, 25, 36, 49, 64, 81, 100]\n",
      "[2, 4, 6, 8, 10]\n",
      "[2, 4, 6, 8, 10]\n"
     ]
    }
   ],
   "source": [
    "x = [1,2,3,4,5,6,7,8,9,10]\n",
    "\n",
    "mp = map(lambda i: i**2, x) # Returns map object\n",
    "print(list(mp))\n",
    "\n",
    "def func(i):\n",
    "    return i % 2 == 0\n",
    "\n",
    "filt = filter(lambda i: i %2 == 0, x)\n",
    "filt2 = filter(func, x)\n",
    "print(list(filt2))\n",
    "print(list(filt))"
   ]
  },
  {
   "cell_type": "markdown",
   "metadata": {},
   "source": [
    "## FORMATTED STRING\n",
    "\n",
    "An **f-string** in Python (formatted string literal) allows embedding expressions inside string literals using curly braces `{}`. Prefixed with `f`, it enables more readable and concise string formatting by evaluating expressions directly within the string."
   ]
  },
  {
   "cell_type": "code",
   "execution_count": null,
   "metadata": {},
   "outputs": [
    {
     "name": "stdout",
     "output_type": "stream",
     "text": [
      "ADD : 4\n",
      "STR IS : AAA\n",
      "STR IS AAA\n"
     ]
    }
   ],
   "source": [
    "print(f\"ADD : {2 + 2}\")\n",
    "a = \"AAA\"\n",
    "print(f\"STR IS : {a}\")\n",
    "\n",
    "print(\"STR IS : {A}\".format(A=a))"
   ]
  },
  {
   "cell_type": "markdown",
   "metadata": {},
   "source": [
    "## ADDITIONALS\n",
    "\n",
    "The underscore _ is used to indicate a \"throwaway\" variable or a variable whose value is intentionally ignored, making the code cleaner and signaling to other programmers that this value is not needed."
   ]
  },
  {
   "cell_type": "code",
   "execution_count": 181,
   "metadata": {},
   "outputs": [
    {
     "name": "stdout",
     "output_type": "stream",
     "text": [
      "Hi\n",
      "Hi\n",
      "Hi\n",
      "1 2\n",
      "3 4\n",
      "5 6\n"
     ]
    }
   ],
   "source": [
    "for _ in range(0,3):\n",
    "    print(\"Hi\")\n",
    "    \n",
    "for i, v in [(1,2),(3,4),(5,6)]:\n",
    "    print(i, v)"
   ]
  }
 ],
 "metadata": {
  "kernelspec": {
   "display_name": "base",
   "language": "python",
   "name": "python3"
  },
  "language_info": {
   "codemirror_mode": {
    "name": "ipython",
    "version": 3
   },
   "file_extension": ".py",
   "mimetype": "text/x-python",
   "name": "python",
   "nbconvert_exporter": "python",
   "pygments_lexer": "ipython3",
   "version": "3.12.4"
  }
 },
 "nbformat": 4,
 "nbformat_minor": 2
}
